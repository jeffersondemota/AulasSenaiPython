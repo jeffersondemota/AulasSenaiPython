{
 "cells": [
  {
   "cell_type": "code",
   "execution_count": 29,
   "id": "6c80a1b5-2b18-4fbf-822d-373d93735628",
   "metadata": {},
   "outputs": [],
   "source": [
    "from selenium import webdriver "
   ]
  },
  {
   "cell_type": "code",
   "execution_count": 35,
   "id": "187392d0-bdc3-4a0d-868f-f56ec45d2fcb",
   "metadata": {},
   "outputs": [],
   "source": [
    "from webdriver_manager.chrome import ChromeDriverManager"
   ]
  },
  {
   "cell_type": "code",
   "execution_count": 48,
   "id": "258d05df-1ac6-43a0-ab6c-e7ac12cf0af7",
   "metadata": {},
   "outputs": [],
   "source": [
    "from selenium.webdriver.chrome.service import Service\n",
    "servico = Service(ChromeDriverManager().install())\n",
    "\n",
    "navegador = webdriver.Chrome(service = servico)\n"
   ]
  },
  {
   "cell_type": "code",
   "execution_count": 49,
   "id": "e1770b4a-1cd1-474e-bcc7-f37a85147972",
   "metadata": {},
   "outputs": [],
   "source": [
    "navegador.get ('https://pages.hashtagtreinamentos.com/arquivo-python-1jGh7kZSxQLoznA_GgwnWa8f7LEl3kKCZ?origemurl=hashtag_yt_org_planilhapyt_8AMNaVt0z_M')\n",
    "\n",
    "\n"
   ]
  },
  {
   "cell_type": "code",
   "execution_count": 50,
   "id": "7985a554-044e-432f-b92e-27da64f49917",
   "metadata": {},
   "outputs": [],
   "source": [
    "navegador.find_element('xpath', \n",
    "                       '//*[@id=\"section-17877670\"]/section/div[2]/div/form/div[1]/div/div/div/input').send_keys('jeffersondemota@gmail.com')\n",
    "\n"
   ]
  },
  {
   "cell_type": "code",
   "execution_count": 51,
   "id": "d8f12034-2a5e-4ba1-be6c-2105237c59c2",
   "metadata": {},
   "outputs": [],
   "source": [
    "navegador.find_element('xpath', '//*[@id=\"section-17877670\"]/section/div[2]/div/form/button/span/b').click()"
   ]
  }
 ],
 "metadata": {
  "kernelspec": {
   "display_name": "Python 3 (ipykernel)",
   "language": "python",
   "name": "python3"
  },
  "language_info": {
   "codemirror_mode": {
    "name": "ipython",
    "version": 3
   },
   "file_extension": ".py",
   "mimetype": "text/x-python",
   "name": "python",
   "nbconvert_exporter": "python",
   "pygments_lexer": "ipython3",
   "version": "3.12.4"
  }
 },
 "nbformat": 4,
 "nbformat_minor": 5
}
