{
 "cells": [
  {
   "cell_type": "code",
   "execution_count": 3,
   "id": "db6edb37-1e1d-4679-ba8e-571a34c02e7d",
   "metadata": {},
   "outputs": [],
   "source": [
    "from selenium import webdriver\n",
    "from selenium.webdriver.common.by import By"
   ]
  },
  {
   "cell_type": "code",
   "execution_count": 5,
   "id": "8f3e3c44-6ff8-44af-aeb8-f385c2bbaa31",
   "metadata": {},
   "outputs": [],
   "source": [
    "driver = webdriver.Chrome()\n",
    "driver.implicitly_wait(2)"
   ]
  },
  {
   "cell_type": "code",
   "execution_count": 6,
   "id": "e8abdeb2-adf3-4ec4-9247-c5a74e05a79c",
   "metadata": {},
   "outputs": [],
   "source": [
    "driver.get('https://webscraper.io/test-sites/tables')"
   ]
  },
  {
   "cell_type": "code",
   "execution_count": 7,
   "id": "569f1c9d-a1b4-4272-9132-f52edf7d8fa7",
   "metadata": {},
   "outputs": [
    {
     "name": "stdout",
     "output_type": "stream",
     "text": [
      "Mark\n",
      "Jacob\n",
      "Larry\n",
      "Harry\n",
      "John\n",
      "Tim\n"
     ]
    }
   ],
   "source": [
    "titulo = driver.title\n",
    "tags_td = driver.find_elements(By.TAG_NAME, 'td')\n",
    "for i in range(1,24, 4): \n",
    "    print(tags_td[i].text)\n",
    "driver.quit()"
   ]
  }
 ],
 "metadata": {
  "kernelspec": {
   "display_name": "Python 3 (ipykernel)",
   "language": "python",
   "name": "python3"
  },
  "language_info": {
   "codemirror_mode": {
    "name": "ipython",
    "version": 3
   },
   "file_extension": ".py",
   "mimetype": "text/x-python",
   "name": "python",
   "nbconvert_exporter": "python",
   "pygments_lexer": "ipython3",
   "version": "3.12.4"
  }
 },
 "nbformat": 4,
 "nbformat_minor": 5
}
