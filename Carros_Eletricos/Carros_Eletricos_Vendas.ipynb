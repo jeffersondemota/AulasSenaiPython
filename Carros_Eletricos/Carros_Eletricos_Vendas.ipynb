{
 "cells": [
  {
   "cell_type": "code",
   "execution_count": 1,
   "id": "f33f28d4-884b-4e92-a2c9-7b6a28e3d61f",
   "metadata": {},
   "outputs": [],
   "source": [
    "#importando a biblioteca pandas no Jupyter\n",
    "\n",
    "import pandas as pd"
   ]
  },
  {
   "cell_type": "code",
   "execution_count": 2,
   "id": "89c0d39a-cfdf-452d-9f7e-0e627274ea0e",
   "metadata": {},
   "outputs": [],
   "source": [
    "#lendo o arquivo .csv\n",
    "\n",
    "df = pd.read_csv ('dataeletrico.csv')\n",
    "\n"
   ]
  },
  {
   "cell_type": "code",
   "execution_count": 7,
   "id": "5fe1c815-11bb-45ff-9a5d-fdc888a387ee",
   "metadata": {},
   "outputs": [
    {
     "data": {
      "text/html": [
       "<div>\n",
       "<style scoped>\n",
       "    .dataframe tbody tr th:only-of-type {\n",
       "        vertical-align: middle;\n",
       "    }\n",
       "\n",
       "    .dataframe tbody tr th {\n",
       "        vertical-align: top;\n",
       "    }\n",
       "\n",
       "    .dataframe thead th {\n",
       "        text-align: right;\n",
       "    }\n",
       "</style>\n",
       "<table border=\"1\" class=\"dataframe\">\n",
       "  <thead>\n",
       "    <tr style=\"text-align: right;\">\n",
       "      <th></th>\n",
       "      <th>region</th>\n",
       "      <th>category</th>\n",
       "      <th>parameter</th>\n",
       "      <th>mode</th>\n",
       "      <th>powertrain</th>\n",
       "      <th>year</th>\n",
       "      <th>unit</th>\n",
       "      <th>value</th>\n",
       "    </tr>\n",
       "  </thead>\n",
       "  <tbody>\n",
       "    <tr>\n",
       "      <th>0</th>\n",
       "      <td>Australia</td>\n",
       "      <td>Historical</td>\n",
       "      <td>EV stock share</td>\n",
       "      <td>Cars</td>\n",
       "      <td>EV</td>\n",
       "      <td>2011</td>\n",
       "      <td>percent</td>\n",
       "      <td>0.00039</td>\n",
       "    </tr>\n",
       "    <tr>\n",
       "      <th>1</th>\n",
       "      <td>Australia</td>\n",
       "      <td>Historical</td>\n",
       "      <td>EV sales share</td>\n",
       "      <td>Cars</td>\n",
       "      <td>EV</td>\n",
       "      <td>2011</td>\n",
       "      <td>percent</td>\n",
       "      <td>0.00650</td>\n",
       "    </tr>\n",
       "    <tr>\n",
       "      <th>2</th>\n",
       "      <td>Australia</td>\n",
       "      <td>Historical</td>\n",
       "      <td>EV sales</td>\n",
       "      <td>Cars</td>\n",
       "      <td>BEV</td>\n",
       "      <td>2011</td>\n",
       "      <td>Vehicles</td>\n",
       "      <td>49.00000</td>\n",
       "    </tr>\n",
       "    <tr>\n",
       "      <th>3</th>\n",
       "      <td>Australia</td>\n",
       "      <td>Historical</td>\n",
       "      <td>EV stock</td>\n",
       "      <td>Cars</td>\n",
       "      <td>BEV</td>\n",
       "      <td>2011</td>\n",
       "      <td>Vehicles</td>\n",
       "      <td>49.00000</td>\n",
       "    </tr>\n",
       "    <tr>\n",
       "      <th>4</th>\n",
       "      <td>Australia</td>\n",
       "      <td>Historical</td>\n",
       "      <td>EV stock</td>\n",
       "      <td>Cars</td>\n",
       "      <td>BEV</td>\n",
       "      <td>2012</td>\n",
       "      <td>Vehicles</td>\n",
       "      <td>220.00000</td>\n",
       "    </tr>\n",
       "  </tbody>\n",
       "</table>\n",
       "</div>"
      ],
      "text/plain": [
       "      region    category       parameter  mode powertrain  year      unit  \\\n",
       "0  Australia  Historical  EV stock share  Cars         EV  2011   percent   \n",
       "1  Australia  Historical  EV sales share  Cars         EV  2011   percent   \n",
       "2  Australia  Historical        EV sales  Cars        BEV  2011  Vehicles   \n",
       "3  Australia  Historical        EV stock  Cars        BEV  2011  Vehicles   \n",
       "4  Australia  Historical        EV stock  Cars        BEV  2012  Vehicles   \n",
       "\n",
       "       value  \n",
       "0    0.00039  \n",
       "1    0.00650  \n",
       "2   49.00000  \n",
       "3   49.00000  \n",
       "4  220.00000  "
      ]
     },
     "execution_count": 7,
     "metadata": {},
     "output_type": "execute_result"
    }
   ],
   "source": [
    "#Analise de dados (colunas) do dataset\n",
    "\n",
    "df.head()\n"
   ]
  },
  {
   "cell_type": "code",
   "execution_count": 4,
   "id": "ba67e3fd-5a5d-4942-a224-ebcdeaaa1c29",
   "metadata": {},
   "outputs": [
    {
     "name": "stdout",
     "output_type": "stream",
     "text": [
      "(12654, 8)\n"
     ]
    }
   ],
   "source": [
    "print(df.shape)"
   ]
  },
  {
   "cell_type": "code",
   "execution_count": 6,
   "id": "5f7219ec-d5f0-4299-8b50-e51a52305459",
   "metadata": {},
   "outputs": [
    {
     "name": "stdout",
     "output_type": "stream",
     "text": [
      "<class 'pandas.core.frame.DataFrame'>\n",
      "RangeIndex: 12654 entries, 0 to 12653\n",
      "Data columns (total 8 columns):\n",
      " #   Column      Non-Null Count  Dtype  \n",
      "---  ------      --------------  -----  \n",
      " 0   region      12654 non-null  object \n",
      " 1   category    12654 non-null  object \n",
      " 2   parameter   12654 non-null  object \n",
      " 3   mode        12654 non-null  object \n",
      " 4   powertrain  12654 non-null  object \n",
      " 5   year        12654 non-null  int64  \n",
      " 6   unit        12654 non-null  object \n",
      " 7   value       12654 non-null  float64\n",
      "dtypes: float64(1), int64(1), object(6)\n",
      "memory usage: 791.0+ KB\n"
     ]
    }
   ],
   "source": [
    "#Analise de dados (Informações) do dataset\n",
    "\n",
    "df.info()"
   ]
  },
  {
   "cell_type": "code",
   "execution_count": 7,
   "id": "2bc579c3-fd10-4836-95b7-5dcd06d630c4",
   "metadata": {},
   "outputs": [
    {
     "data": {
      "text/html": [
       "<div>\n",
       "<style scoped>\n",
       "    .dataframe tbody tr th:only-of-type {\n",
       "        vertical-align: middle;\n",
       "    }\n",
       "\n",
       "    .dataframe tbody tr th {\n",
       "        vertical-align: top;\n",
       "    }\n",
       "\n",
       "    .dataframe thead th {\n",
       "        text-align: right;\n",
       "    }\n",
       "</style>\n",
       "<table border=\"1\" class=\"dataframe\">\n",
       "  <thead>\n",
       "    <tr style=\"text-align: right;\">\n",
       "      <th></th>\n",
       "      <th>year</th>\n",
       "      <th>value</th>\n",
       "    </tr>\n",
       "  </thead>\n",
       "  <tbody>\n",
       "    <tr>\n",
       "      <th>count</th>\n",
       "      <td>12654.000000</td>\n",
       "      <td>1.265400e+04</td>\n",
       "    </tr>\n",
       "    <tr>\n",
       "      <th>mean</th>\n",
       "      <td>2019.822112</td>\n",
       "      <td>4.273742e+05</td>\n",
       "    </tr>\n",
       "    <tr>\n",
       "      <th>std</th>\n",
       "      <td>5.476494</td>\n",
       "      <td>6.860498e+06</td>\n",
       "    </tr>\n",
       "    <tr>\n",
       "      <th>min</th>\n",
       "      <td>2010.000000</td>\n",
       "      <td>1.200000e-06</td>\n",
       "    </tr>\n",
       "    <tr>\n",
       "      <th>25%</th>\n",
       "      <td>2016.000000</td>\n",
       "      <td>2.000000e+00</td>\n",
       "    </tr>\n",
       "    <tr>\n",
       "      <th>50%</th>\n",
       "      <td>2020.000000</td>\n",
       "      <td>1.300000e+02</td>\n",
       "    </tr>\n",
       "    <tr>\n",
       "      <th>75%</th>\n",
       "      <td>2022.000000</td>\n",
       "      <td>5.500000e+03</td>\n",
       "    </tr>\n",
       "    <tr>\n",
       "      <th>max</th>\n",
       "      <td>2035.000000</td>\n",
       "      <td>4.400000e+08</td>\n",
       "    </tr>\n",
       "  </tbody>\n",
       "</table>\n",
       "</div>"
      ],
      "text/plain": [
       "               year         value\n",
       "count  12654.000000  1.265400e+04\n",
       "mean    2019.822112  4.273742e+05\n",
       "std        5.476494  6.860498e+06\n",
       "min     2010.000000  1.200000e-06\n",
       "25%     2016.000000  2.000000e+00\n",
       "50%     2020.000000  1.300000e+02\n",
       "75%     2022.000000  5.500000e+03\n",
       "max     2035.000000  4.400000e+08"
      ]
     },
     "execution_count": 7,
     "metadata": {},
     "output_type": "execute_result"
    }
   ],
   "source": [
    "#Analise de dados (Estátisticos) do dataset\n",
    "\n",
    "df.describe()"
   ]
  },
  {
   "cell_type": "code",
   "execution_count": 9,
   "id": "1b682686-2f25-4728-8374-6aade4cd5529",
   "metadata": {},
   "outputs": [],
   "source": [
    "#limpando as linhas que possuirem dados vazios\n",
    "\n",
    "df_limpo = df.dropna()"
   ]
  },
  {
   "cell_type": "code",
   "execution_count": 10,
   "id": "a071d592-97c4-459b-8ae5-311722c7b433",
   "metadata": {},
   "outputs": [
    {
     "data": {
      "text/html": [
       "<div>\n",
       "<style scoped>\n",
       "    .dataframe tbody tr th:only-of-type {\n",
       "        vertical-align: middle;\n",
       "    }\n",
       "\n",
       "    .dataframe tbody tr th {\n",
       "        vertical-align: top;\n",
       "    }\n",
       "\n",
       "    .dataframe thead th {\n",
       "        text-align: right;\n",
       "    }\n",
       "</style>\n",
       "<table border=\"1\" class=\"dataframe\">\n",
       "  <thead>\n",
       "    <tr style=\"text-align: right;\">\n",
       "      <th></th>\n",
       "      <th>region</th>\n",
       "      <th>category</th>\n",
       "      <th>parameter</th>\n",
       "      <th>mode</th>\n",
       "      <th>powertrain</th>\n",
       "      <th>year</th>\n",
       "      <th>unit</th>\n",
       "      <th>value</th>\n",
       "    </tr>\n",
       "  </thead>\n",
       "  <tbody>\n",
       "    <tr>\n",
       "      <th>0</th>\n",
       "      <td>Australia</td>\n",
       "      <td>Historical</td>\n",
       "      <td>EV stock share</td>\n",
       "      <td>Cars</td>\n",
       "      <td>EV</td>\n",
       "      <td>2011</td>\n",
       "      <td>percent</td>\n",
       "      <td>0.00039</td>\n",
       "    </tr>\n",
       "    <tr>\n",
       "      <th>1</th>\n",
       "      <td>Australia</td>\n",
       "      <td>Historical</td>\n",
       "      <td>EV sales share</td>\n",
       "      <td>Cars</td>\n",
       "      <td>EV</td>\n",
       "      <td>2011</td>\n",
       "      <td>percent</td>\n",
       "      <td>0.00650</td>\n",
       "    </tr>\n",
       "    <tr>\n",
       "      <th>2</th>\n",
       "      <td>Australia</td>\n",
       "      <td>Historical</td>\n",
       "      <td>EV sales</td>\n",
       "      <td>Cars</td>\n",
       "      <td>BEV</td>\n",
       "      <td>2011</td>\n",
       "      <td>Vehicles</td>\n",
       "      <td>49.00000</td>\n",
       "    </tr>\n",
       "    <tr>\n",
       "      <th>3</th>\n",
       "      <td>Australia</td>\n",
       "      <td>Historical</td>\n",
       "      <td>EV stock</td>\n",
       "      <td>Cars</td>\n",
       "      <td>BEV</td>\n",
       "      <td>2011</td>\n",
       "      <td>Vehicles</td>\n",
       "      <td>49.00000</td>\n",
       "    </tr>\n",
       "    <tr>\n",
       "      <th>4</th>\n",
       "      <td>Australia</td>\n",
       "      <td>Historical</td>\n",
       "      <td>EV stock</td>\n",
       "      <td>Cars</td>\n",
       "      <td>BEV</td>\n",
       "      <td>2012</td>\n",
       "      <td>Vehicles</td>\n",
       "      <td>220.00000</td>\n",
       "    </tr>\n",
       "  </tbody>\n",
       "</table>\n",
       "</div>"
      ],
      "text/plain": [
       "      region    category       parameter  mode powertrain  year      unit  \\\n",
       "0  Australia  Historical  EV stock share  Cars         EV  2011   percent   \n",
       "1  Australia  Historical  EV sales share  Cars         EV  2011   percent   \n",
       "2  Australia  Historical        EV sales  Cars        BEV  2011  Vehicles   \n",
       "3  Australia  Historical        EV stock  Cars        BEV  2011  Vehicles   \n",
       "4  Australia  Historical        EV stock  Cars        BEV  2012  Vehicles   \n",
       "\n",
       "       value  \n",
       "0    0.00039  \n",
       "1    0.00650  \n",
       "2   49.00000  \n",
       "3   49.00000  \n",
       "4  220.00000  "
      ]
     },
     "execution_count": 10,
     "metadata": {},
     "output_type": "execute_result"
    }
   ],
   "source": [
    "df_limpo.head()"
   ]
  },
  {
   "cell_type": "code",
   "execution_count": 11,
   "id": "14919693-fa89-45d0-896c-beb770add39e",
   "metadata": {},
   "outputs": [
    {
     "data": {
      "text/plain": [
       "<bound method NDFrame.describe of           region          category           parameter    mode  \\\n",
       "0      Australia        Historical      EV stock share    Cars   \n",
       "1      Australia        Historical      EV sales share    Cars   \n",
       "2      Australia        Historical            EV sales    Cars   \n",
       "3      Australia        Historical            EV stock    Cars   \n",
       "4      Australia        Historical            EV stock    Cars   \n",
       "...          ...               ...                 ...     ...   \n",
       "12649      World  Projection-STEPS      EV sales share    Cars   \n",
       "12650      World  Projection-STEPS      EV stock share    Cars   \n",
       "12651      World    Projection-APS  EV charging points      EV   \n",
       "12652      World    Projection-APS  EV charging points      EV   \n",
       "12653      World  Projection-STEPS      EV stock share  Trucks   \n",
       "\n",
       "                    powertrain  year             unit         value  \n",
       "0                           EV  2011          percent  3.900000e-04  \n",
       "1                           EV  2011          percent  6.500000e-03  \n",
       "2                          BEV  2011         Vehicles  4.900000e+01  \n",
       "3                          BEV  2011         Vehicles  4.900000e+01  \n",
       "4                          BEV  2012         Vehicles  2.200000e+02  \n",
       "...                        ...   ...              ...           ...  \n",
       "12649                       EV  2035          percent  5.500000e+01  \n",
       "12650                       EV  2035          percent  3.100000e+01  \n",
       "12651  Publicly available fast  2035  charging points  9.400000e+06  \n",
       "12652  Publicly available slow  2035  charging points  1.500000e+07  \n",
       "12653                       EV  2035          percent  9.000000e+00  \n",
       "\n",
       "[12654 rows x 8 columns]>"
      ]
     },
     "execution_count": 11,
     "metadata": {},
     "output_type": "execute_result"
    }
   ],
   "source": [
    "df_limpo.describe"
   ]
  },
  {
   "cell_type": "code",
   "execution_count": 12,
   "id": "5b1e32b4-7dc1-438d-a1a6-f8d5032b5ceb",
   "metadata": {},
   "outputs": [
    {
     "name": "stdout",
     "output_type": "stream",
     "text": [
      "<class 'pandas.core.frame.DataFrame'>\n",
      "RangeIndex: 12654 entries, 0 to 12653\n",
      "Data columns (total 8 columns):\n",
      " #   Column      Non-Null Count  Dtype  \n",
      "---  ------      --------------  -----  \n",
      " 0   region      12654 non-null  object \n",
      " 1   category    12654 non-null  object \n",
      " 2   parameter   12654 non-null  object \n",
      " 3   mode        12654 non-null  object \n",
      " 4   powertrain  12654 non-null  object \n",
      " 5   year        12654 non-null  int64  \n",
      " 6   unit        12654 non-null  object \n",
      " 7   value       12654 non-null  float64\n",
      "dtypes: float64(1), int64(1), object(6)\n",
      "memory usage: 791.0+ KB\n"
     ]
    }
   ],
   "source": [
    "df_limpo.info()"
   ]
  },
  {
   "cell_type": "code",
   "execution_count": 9,
   "id": "9f094a16-ef2d-4d3f-a3c8-19b3993f3cec",
   "metadata": {},
   "outputs": [],
   "source": [
    "import matplotlib as plt"
   ]
  },
  {
   "cell_type": "code",
   "execution_count": 10,
   "id": "486803a0-2de8-4e29-a9f0-4b9b5175bfbe",
   "metadata": {},
   "outputs": [],
   "source": [
    "tipo_veiculo = df['mode'].value_counts()"
   ]
  },
  {
   "cell_type": "code",
   "execution_count": 11,
   "id": "539a2835-5766-4770-af94-411a4c215c5c",
   "metadata": {},
   "outputs": [
    {
     "data": {
      "text/plain": [
       "mode\n",
       "Cars      4706\n",
       "Buses     2696\n",
       "Vans      2568\n",
       "Trucks    1766\n",
       "EV         918\n",
       "Name: count, dtype: int64"
      ]
     },
     "execution_count": 11,
     "metadata": {},
     "output_type": "execute_result"
    }
   ],
   "source": [
    "tipo_veiculo.head()"
   ]
  },
  {
   "cell_type": "code",
   "execution_count": 12,
   "id": "312e59b5-4d8d-4035-803d-80e425e24c76",
   "metadata": {},
   "outputs": [],
   "source": [
    "import matplotlib.pyplot as plt"
   ]
  },
  {
   "cell_type": "code",
   "execution_count": 13,
   "id": "74bff75e-f52c-49ba-9014-a0a4b6ee1cf9",
   "metadata": {},
   "outputs": [
    {
     "data": {
      "image/png": "[encoded data removed]",
      "text/plain": [
       "<Figure size 640x480 with 1 Axes>"
      ]
     },
     "metadata": {},
     "output_type": "display_data"
    }
   ],
   "source": [
    "# plotando  gráfico do tipo \"pie\" verificando a contagem de cada tipo de veículos (coluna mode).\n",
    "\n",
    "\n",
    "plt.pie(tipo_veiculo, labels= tipo_veiculo , autopct= '%1.2f%%'  )\n",
    "plt.title('Contagem de Tipos de Veiculos - com percentual')\n",
    "plt.show()"
   ]
  },
  {
   "cell_type": "code",
   "execution_count": 14,
   "id": "13826e93-b022-4a29-a33f-54f18acbd1f2",
   "metadata": {},
   "outputs": [
    {
     "data": {
      "text/plain": [
       "region\n",
       "World                2.655048e+09\n",
       "China                1.234572e+09\n",
       "Europe               6.134628e+08\n",
       "USA                  4.220861e+08\n",
       "Rest of the world    3.212946e+08\n",
       "Name: value, dtype: float64"
      ]
     },
     "execution_count": 14,
     "metadata": {},
     "output_type": "execute_result"
    }
   ],
   "source": [
    "regiao_vendas = df.groupby('region')['value'].sum().sort_values(ascending=False)[:10]\n",
    "\n",
    "regiao_vendas.head()"
   ]
  },
  {
   "cell_type": "code",
   "execution_count": 15,
   "id": "f7ad1956-109c-4904-8dac-533227a0fab7",
   "metadata": {},
   "outputs": [
    {
     "data": {
      "image/png": "[encoded data removed]",
      "text/plain": [
       "<Figure size 640x480 with 1 Axes>"
      ]
     },
     "metadata": {},
     "output_type": "display_data"
    }
   ],
   "source": [
    "# plotando  gráfico do tipo \"bar\" verificando as 10 primeiras regiões em quantidade de veículos.\n",
    "\n",
    "\n",
    "regiao_vendas.plot(kind='bar')\n",
    "plt.xlabel('Região')\n",
    "plt.ylabel('Quantidade de Veículos')\n",
    "plt.title('Top 10 Regiões em Quantidade de Veículos')\n",
    "plt.show()"
   ]
  }
 ],
 "metadata": {
  "kernelspec": {
   "display_name": "Python 3 (ipykernel)",
   "language": "python",
   "name": "python3"
  },
  "language_info": {
   "codemirror_mode": {
    "name": "ipython",
    "version": 3
   },
   "file_extension": ".py",
   "mimetype": "text/x-python",
   "name": "python",
   "nbconvert_exporter": "python",
   "pygments_lexer": "ipython3",
   "version": "3.12.4"
  }
 },
 "nbformat": 4,
 "nbformat_minor": 5
}
